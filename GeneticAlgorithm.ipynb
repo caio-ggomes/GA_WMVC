{
  "nbformat": 4,
  "nbformat_minor": 0,
  "metadata": {
    "colab": {
      "name": "ProjetoPO205.ipynb",
      "provenance": [],
      "collapsed_sections": []
    },
    "kernelspec": {
      "name": "python3",
      "display_name": "Python 3"
    },
    "language_info": {
      "name": "python"
    }
  },
  "cells": [
    {
      "cell_type": "code",
      "metadata": {
        "id": "IGa1kw-WUFwY"
      },
      "source": [
        "import numpy as np\n",
        "import copy\n",
        "import random\n",
        "import time\n",
        "import os\n",
        "import pandas as pd\n",
        "from scipy.io import mmread"
      ],
      "execution_count": 2,
      "outputs": []
    },
    {
      "cell_type": "markdown",
      "metadata": {
        "id": "97nAk9pfCXs_"
      },
      "source": [
        "Group: \n",
        "\n",
        "Caio Graça Gomes, \n",
        "\n",
        "Gabriel Tostes Messias Pereira."
      ]
    },
    {
      "cell_type": "markdown",
      "metadata": {
        "id": "NgwWRRgW4FUM"
      },
      "source": [
        "# Weighted Minimum Vertex Cover Problem"
      ]
    },
    {
      "cell_type": "code",
      "metadata": {
        "colab": {
          "base_uri": "https://localhost:8080/"
        },
        "id": "HRnXjd2yCVj_",
        "outputId": "5048f28f-bcb8-4cc5-c332-0185dead94d0"
      },
      "source": [
        "from google.colab import drive\n",
        "drive.mount('/content/drive')"
      ],
      "execution_count": 3,
      "outputs": [
        {
          "output_type": "stream",
          "text": [
            "Drive already mounted at /content/drive; to attempt to forcibly remount, call drive.mount(\"/content/drive\", force_remount=True).\n"
          ],
          "name": "stdout"
        }
      ]
    },
    {
      "cell_type": "code",
      "metadata": {
        "id": "Ok-pC3pSFaDZ"
      },
      "source": [
        "path_instances = '/content/drive/MyDrive/Instances'"
      ],
      "execution_count": 4,
      "outputs": []
    },
    {
      "cell_type": "code",
      "metadata": {
        "colab": {
          "base_uri": "https://localhost:8080/"
        },
        "id": "K_ppyj6ZFrc4",
        "outputId": "9b55d5e8-8b8b-44dc-9ace-25ebd9c58614"
      },
      "source": [
        "!ls '/content/drive/MyDrive/Instances'"
      ],
      "execution_count": 5,
      "outputs": [
        {
          "output_type": "stream",
          "text": [
            "bio-celegans.mtx\t\t lp1.mtx\n",
            "bio-diseasome.mtx\t\t opsahl-southernwomen.edges\n",
            "bio-yeast.mtx\t\t\t road-chesapeake.mtx\n",
            "bn-macaque-rhesus_brain_2.edges  rt-retweet-crawl.mtx\n",
            "boyd2.mtx\t\t\t rt-retweet.mtx\n",
            "ca-CSphd.mtx\t\t\t rt-twitter-copen.mtx\n",
            "ca-Erdos992.mtx\t\t\t soc-dolphins.mtx\n",
            "can_96.mtx\t\t\t soc-douban.mtx\n",
            "ca-netscience.mtx\t\t soc-gplus.edges\n",
            "com-youtube.edges\t\t soc-karate.mtx\n",
            "dwt_59.mtx\t\t\t tech-as-caida2007.mtx\n",
            "GD95_c.mtx\t\t\t web-edu.mtx\n",
            "gent113.mtx\t\t\t web-google.mtx\n",
            "ia-email-EU.mtx\t\t\t web-indochina-2004.mtx\n",
            "ia-enron-only.mtx\t\t web-polblogs.mtx\n",
            "ia-reality.mtx\t\t\t web-webbase-2001.mtx\n",
            "inf-contiguous-usa.edges\n"
          ],
          "name": "stdout"
        }
      ]
    },
    {
      "cell_type": "markdown",
      "metadata": {
        "id": "bM_iKTxG4NHq"
      },
      "source": [
        "Given an undirected graph $G = (V, E)$, and a cost function $c: V \\rightarrow \\mathbb{R}^{*}_{+}$, find a subset $V' \\subseteq V$ such that, if $uv \\in E$, then $u \\in V' \\lor e \\in V'$, moreover $S = \\sum^{}_{v \\in V'} c(v)$ is minimal."
      ]
    },
    {
      "cell_type": "markdown",
      "metadata": {
        "id": "_4n-lht_7_Jz"
      },
      "source": [
        "A more convenient way to formulate the problem would be:\n",
        "\n",
        "Minimize $\\sum_{v \\in V} c(v) x_v$\n",
        "\n",
        "Subject to $x_u + x_v \\geq 1 \\forall \\{u, v\\} \\in E$\n",
        "\n",
        "and $x_v \\in \\{0, 1\\} \\forall v \\in V$\n",
        "\n",
        "Therefore, the solution can be written as a boolean array $x(G) = [x_1, x_2, ..., x_{|V|}]$."
      ]
    },
    {
      "cell_type": "markdown",
      "metadata": {
        "id": "zR840CPA-uxb"
      },
      "source": [
        "### Data Structure Definition"
      ]
    },
    {
      "cell_type": "code",
      "metadata": {
        "id": "50Pa0xTZTw9u"
      },
      "source": [
        "class solution():\n",
        "  def __init__(self, num_vertices):\n",
        "    self.array = [0 for i in range(num_vertices)]\n",
        "    self.prize = 0\n",
        "  def update(self, weights):\n",
        "    total_prize = 0\n",
        "    for i in range(len(weights)):\n",
        "      total_prize += self.array[i] * weights[i]\n",
        "    self.prize = total_prize"
      ],
      "execution_count": 5,
      "outputs": []
    },
    {
      "cell_type": "markdown",
      "metadata": {
        "id": "XWCMpk5K92V0"
      },
      "source": [
        "### Auxiliary Functions"
      ]
    },
    {
      "cell_type": "code",
      "metadata": {
        "id": "KcAycpxN-Z7s"
      },
      "source": [
        "def is_feasible(solution, edges):\n",
        "  for edge in edges:\n",
        "    if not solution.array[edge[0]] and not solution.array[edge[1]]: return False\n",
        "  return True"
      ],
      "execution_count": 6,
      "outputs": []
    },
    {
      "cell_type": "markdown",
      "metadata": {
        "id": "3CQU1Mw4-Rlb"
      },
      "source": [
        "## Genetic Algorithm Implementation"
      ]
    },
    {
      "cell_type": "code",
      "metadata": {
        "id": "i_QlmoiYVnnw"
      },
      "source": [
        "class sga():\n",
        "    \n",
        "    def __init__(self, weights, edges, population_size = 20, recombinate_probability = .6, mutation_probability = .03, elitism = .1, generations = 30):\n",
        "        self.num_vertices = len(weights)\n",
        "        self.weights = copy.deepcopy(weights)\n",
        "        self.edges = copy.deepcopy(edges)\n",
        "        self.deg = np.zeros(len(weights))\n",
        "        self.adj = {i: [] for i in range(len(weights))}\n",
        "\n",
        "        for edge in self.edges:\n",
        "          self.deg[edge[0]]+=1\n",
        "          self.adj[edge[0]].append(edge[1])\n",
        "          if edge[0] != edge[1]:\n",
        "            self.deg[edge[1]]+=1\n",
        "            self.adj[edge[1]].append(edge[0])\n",
        "\n",
        "        \n",
        "        self.population_size = population_size\n",
        "        self.recombinate_probability = recombinate_probability\n",
        "        self.mutation_probability = mutation_probability\n",
        "        self.elitism = elitism\n",
        "        self.max_generations = generations\n",
        "\n",
        "        self.alpha = np.sqrt(population_size)\n",
        "\n",
        "        self.population = []\n",
        "\n",
        "        self.best_solution = solution(self.num_vertices)\n",
        "        self.best_gen = 1\n",
        "\n",
        "        self.ps = 0\n",
        "        self.c = 0\n",
        "        self.m = 0\n",
        "        self.r = 0\n",
        "        self.h = 0\n",
        "        self.ng = 0\n",
        "        self.b = 0\n",
        "    \n",
        "    # População inicial é gerada usando um método aleatório que retorna soluções válidas.\n",
        "    def generate_initial_population(self):\n",
        "        self.population = []\n",
        "        for i in range(self.population_size):\n",
        "            self.population.append(solution(self.num_vertices))\n",
        "        self.repair(self.population)\n",
        "\n",
        "    \n",
        "    # Método para seleção de pais e da próxima geração, por adaptabilidade(usando as recompensas).\n",
        "    def parent_selection(self):\n",
        "        \n",
        "        fitness = []\n",
        "        cumulated_prize = 0\n",
        "        \n",
        "        for i in range(self.population_size):\n",
        "          fit = np.exp(-self.alpha * self.population[i].prize)\n",
        "          fitness.append(fit)\n",
        "          cumulated_prize += fit\n",
        "        \n",
        "        selection_probabilities = fitness / cumulated_prize\n",
        "        \n",
        "        selector = []\n",
        "        cumulated_probability = 0\n",
        "        \n",
        "        for i in range(self.population_size):\n",
        "            cumulated_probability += selection_probabilities[i]\n",
        "            selector.append(cumulated_probability)\n",
        "            \n",
        "        parents = []\n",
        "        \n",
        "        for i in range(self.population_size):\n",
        "            \n",
        "            select = np.random.uniform(0, 1)\n",
        "            \n",
        "            not_found = True\n",
        "            selected = 0\n",
        "            \n",
        "            while(selected < self.population_size and not_found):\n",
        "                \n",
        "                if select < selector[selected]:\n",
        "                    parents.append(self.population[selected])\n",
        "                    not_found = False\n",
        "                    \n",
        "                selected += 1\n",
        "        \n",
        "        return parents\n",
        "\n",
        "    def mutation(self, children):\n",
        "        u01 = np.random.uniform(0,1)\n",
        "        if u01 < 0.2: \n",
        "          for child in children:\n",
        "              for i in range(len(child.array)):\n",
        "                if np.random.uniform(0, 1) < self.mutation_probability:\n",
        "                  child.array[i] = int(not child.array[i])\n",
        "              child.update(self.weights)\n",
        "        else:\n",
        "          for child in children:\n",
        "            p = np.zeros(len(child.array))\n",
        "            for i in range(len(child.array)):\n",
        "              if child.array[i]:\n",
        "                p[i] = self.weights[i] / (self.deg[i]+0.001)\n",
        "            if p.sum()==0: return children\n",
        "\n",
        "            p = p/p.sum()\n",
        "\n",
        "            for i in range(2):\n",
        "              dr = np.random.choice(np.arange(len(child.array)), 1, p = p)[0]\n",
        "              if child.array[dr]: child.array[dr] = 0\n",
        "            child.update(self.weights)\n",
        "        return children\n",
        "\n",
        "    def repair(self, children):\n",
        "      for child in children:\n",
        "        edg = []\n",
        "        for e in self.edges:\n",
        "          if not child.array[e[0]] and not child.array[e[1]]: edg.append(e)\n",
        "        edg = np.array(edg)\n",
        "        np.random.shuffle(edg)\n",
        "        for e in edg:\n",
        "          if child.array[e[0]] or child.array[e[1]]:  continue\n",
        "          p0 = self.weights[e[0]]/(self.deg[e[0]]+1)\n",
        "          p1 = self.weights[e[1]]/(self.deg[e[1]]+1)\n",
        "          u01 = random.uniform(0,1)\n",
        "          if u01 < p0/(p0+p1): child.array[e[1]]=1\n",
        "          else: child.array[e[0]]=1\n",
        "        child.update(self.weights)\n",
        "\n",
        "      return children\n",
        "      \n",
        "    def eliminate_redundant(self, redundant, elem):\n",
        "      for u in self.adj[elem]:\n",
        "        if u in redundant: redundant.remove(u)\n",
        "      if elem in redundant: redundant.remove(elem)\n",
        "\n",
        "\n",
        "    def heuristic(self, children):\n",
        "      for child in children:\n",
        "        aux = time.time()\n",
        "        redundant = []\n",
        "        cnt = np.zeros(len(child.array))\n",
        "\n",
        "        for i in range(len(child.array)):\n",
        "          if not child.array[i]: continue\n",
        "          ct = 0\n",
        "          for j in self.adj[i]:\n",
        "            if child.array[j]: ct+=1\n",
        "            else: break\n",
        "          if ct>0 and ct==self.deg[i] and (i not in self.adj[i]): redundant.append(i)\n",
        "\n",
        "        while len(redundant):\n",
        "          p = np.zeros(len(redundant))\n",
        "          for i in range(len(redundant)):\n",
        "            p[i] = self.weights[i]/(self.deg[i]+0.001)\n",
        "          p = np.exp(2*np.array(p))\n",
        "          p = p/p.sum()\n",
        "\n",
        "          elem = np.random.choice(redundant, 1, p = p)[0]\n",
        "          child.array[elem] = 0\n",
        "          self.eliminate_redundant(redundant, elem)\n",
        "\n",
        "        child.update(self.weights)\n",
        "\n",
        "      return children\n",
        "                \n",
        "    # def parent_selection(self):\n",
        "    #   parents = []\n",
        "    #   for i in range(self.population_size):\n",
        "    #     parent1 = self.population[random.randint(0, self.population_size-1)]\n",
        "    #     parent2 = self.population[random.randint(0, self.population_size-1)]\n",
        "    #     parent3 = self.population[random.randint(0, self.population_size-1)]\n",
        "    #     if parent1.prize <= parent2.prize and parent1.prize <= parent3.prize:\n",
        "    #       parents.append(parent1)\n",
        "    #     elif parent2.prize <= parent2.prize and parent2.prize <= parent3.prize:\n",
        "    #       parents.append(parent2)\n",
        "    #     elif parent3.prize <= parent1.prize and parent3.prize <= parent2.prize:\n",
        "    #       parents.append(parent3)\n",
        "    #   return parents\n",
        "    \n",
        "\n",
        "    # Método de recombinação, crossover de dois pontos.\n",
        "    def recombinate(self, parent1, parent2):\n",
        "        \n",
        "        child1 = copy.deepcopy(parent1)\n",
        "        child2 = copy.deepcopy(parent2)\n",
        "        \n",
        "        index1 = np.random.randint(self.num_vertices)\n",
        "        index2 = np.random.randint(self.num_vertices)\n",
        "        \n",
        "        index1, index2 = np.sort([index1, index2])\n",
        "\n",
        "        for i in range(index1, index2):\n",
        "          child1.array[i] = parent2.array[i]\n",
        "        for i in range(index1, index2):\n",
        "          child2.array[i] = parent1.array[i]\n",
        "\n",
        "        child1.update(self.weights)\n",
        "        child2.update(self.weights)\n",
        "\n",
        "        return child1, child2\n",
        "    \n",
        "    def crossover(self, parents):\n",
        "        \n",
        "        np.random.shuffle(parents)\n",
        "        \n",
        "        children = []\n",
        "        \n",
        "        for i in range(self.population_size // 2):\n",
        "            \n",
        "            children.append(parents[2*i])\n",
        "            children.append(parents[2*i+1])\n",
        "            \n",
        "            if np.random.uniform(0, 1) < self.recombinate_probability:\n",
        "                children[2*i], children[2*i + 1] = self.recombinate(parents[2*i], parents[2*i+1])\n",
        "        \n",
        "        return children\n",
        "        \n",
        "        \n",
        "    def next_generation_selection(self, parents, children):\n",
        "        \n",
        "        next_gen = []\n",
        "        \n",
        "        parents.sort(key = lambda x: x.prize)\n",
        "        children.sort(key = lambda x: x.prize)\n",
        "\n",
        "        for i in range(self.population_size):\n",
        "          if i < self.elitism * self.population_size:\n",
        "            next_gen.append(parents[i])\n",
        "          else:\n",
        "            next_gen.append(children[int(i - self.elitism * self.population_size)])\n",
        "\n",
        "        return next_gen\n",
        "        \n",
        "    # Resolução do algoritmo genético, adotou-se como critério de parada alcançar 50 iterações\n",
        "    def solve(self):\n",
        "        \n",
        "        self.generate_initial_population()\n",
        "\n",
        "        self.best_solution = copy.deepcopy(self.population[0])\n",
        "\n",
        "        stop_criterion = False\n",
        "        counter = 0\n",
        "        \n",
        "        while(not stop_criterion):\n",
        "            # print(f'Counter : {counter} : {time.time()}')\n",
        "            counter += 1\n",
        "            \n",
        "            aux = time.time()\n",
        "            parents = self.parent_selection()\n",
        "            self.ps += time.time() - aux\n",
        "            \n",
        "            aux = time.time()\n",
        "            children = self.crossover(parents)\n",
        "            self.c += time.time() - aux\n",
        "            aux = time.time()\n",
        "            children = self.mutation(children)\n",
        "            self.m += time.time() - aux\n",
        "            aux = time.time()\n",
        "            children = self.repair(children)\n",
        "            self.r += time.time() - aux\n",
        "            aux = time.time()\n",
        "            children = self.heuristic(children)\n",
        "            self.h += time.time() - aux\n",
        "\n",
        "            aux = time.time()\n",
        "            self.population = self.next_generation_selection(parents, children)\n",
        "            self.ng += time.time() - aux\n",
        "\n",
        "            aux = time.time()\n",
        "            for individual in self.population:\n",
        "              if individual.prize < self.best_solution.prize:\n",
        "                self.best_solution = copy.deepcopy(individual)\n",
        "                s.best_gen = counter\n",
        "            self.b += time.time() - aux\n",
        "\n",
        "            if(counter > self.max_generations): \n",
        "                stop_criterion = True"
      ],
      "execution_count": 7,
      "outputs": []
    },
    {
      "cell_type": "code",
      "metadata": {
        "id": "hrPVrFLxwBwP"
      },
      "source": [
        "class flipheuristic():\n",
        "\n",
        "  def __init__(self, w, e):\n",
        "    self.w_ = copy.deepcopy(w)\n",
        "    self.e_ = copy.deepcopy(e)\n",
        "    random.shuffle(self.e_)\n",
        "    self.taken = list(np.zeros(len(w)))\n",
        "    self.ans = 0\n",
        "\n",
        "  def getedge(self):\n",
        "    while len(self.e_):\n",
        "      e = self.e_.pop(0)\n",
        "      if not self.taken[e[0]] and not self.taken[e[1]]: return e\n",
        "    return None\n",
        "    \n",
        "  def step(self):\n",
        "    e = self.getedge()\n",
        "    if e is None: return 0\n",
        "    w = self.w_\n",
        "    u = e[0]\n",
        "    v = e[1]\n",
        "    if np.random.rand() <= w[u]/(w[u]+w[v]):\n",
        "      self.taken[v] = 1\n",
        "      self.ans+=w[v]\n",
        "    else:\n",
        "      self.taken[u] = 1\n",
        "      self.ans+=w[u]\n",
        "    return 1\n",
        "\n",
        "\n",
        "  def run(self):\n",
        "    while self.step(): pass\n",
        "    return self.ans, self.taken"
      ],
      "execution_count": 8,
      "outputs": []
    },
    {
      "cell_type": "markdown",
      "metadata": {
        "id": "FhOHbJbNziHF"
      },
      "source": [
        "# Teste"
      ]
    },
    {
      "cell_type": "code",
      "metadata": {
        "id": "jLdxHcAxA4K-"
      },
      "source": [
        "def graph(num_vertices, maxweight=11, name='bio-celegans'):\n",
        "  p = .3\n",
        "  edges = []\n",
        "  for i in range(num_vertices):\n",
        "    for j in range(i+1, num_vertices):\n",
        "      if np.random.uniform(0, 1) < p:\n",
        "        edges.append([i, j])\n",
        "\n",
        "  weights = np.random.randint(1, maxweight, size=num_vertices)\n",
        "  arx = open(f'{name}.mwvc', \"a\")\n",
        "  arx.write(f'p edge {num_vertices} {len(edges)}\\n')\n",
        "  for i in range(1,num_vertices+1):\n",
        "    arx.write(f'v {i} {weights[i-1]}\\n')\n",
        "  for i in edges:\n",
        "    arx.write(f'e {i[0]+1} {i[1]+1}\\n')\n",
        "  return edges, weights"
      ],
      "execution_count": 9,
      "outputs": []
    },
    {
      "cell_type": "code",
      "metadata": {
        "colab": {
          "base_uri": "https://localhost:8080/"
        },
        "id": "pt6BdNy0oM6M",
        "outputId": "ea0e790b-9372-446e-94d2-6067e3c49dc1"
      },
      "source": [
        "!ls /content/drive/MyDrive/Instances"
      ],
      "execution_count": null,
      "outputs": [
        {
          "output_type": "stream",
          "text": [
            "bio-celegans.mtx\t\t lp1.mtx\n",
            "bio-diseasome.mtx\t\t opsahl-southernwomen.edges\n",
            "bio-yeast.mtx\t\t\t road-chesapeake.mtx\n",
            "bn-macaque-rhesus_brain_2.edges  rt-retweet-crawl.mtx\n",
            "boyd2.mtx\t\t\t rt-retweet.mtx\n",
            "ca-CSphd.mtx\t\t\t rt-twitter-copen.mtx\n",
            "ca-Erdos992.mtx\t\t\t soc-dolphins.mtx\n",
            "can_96.mtx\t\t\t soc-douban.mtx\n",
            "ca-netscience.mtx\t\t soc-gplus.edges\n",
            "com-youtube.edges\t\t soc-karate.mtx\n",
            "dwt_59.mtx\t\t\t tech-as-caida2007.mtx\n",
            "GD95_c.mtx\t\t\t web-edu.mtx\n",
            "gent113.mtx\t\t\t web-google.mtx\n",
            "ia-email-EU.mtx\t\t\t web-indochina-2004.mtx\n",
            "ia-enron-only.mtx\t\t web-polblogs.mtx\n",
            "ia-reality.mtx\t\t\t web-webbase-2001.mtx\n",
            "inf-contiguous-usa.edges\n"
          ],
          "name": "stdout"
        }
      ]
    },
    {
      "cell_type": "code",
      "metadata": {
        "id": "XFjd1kCbln08"
      },
      "source": [
        "def toWE_mtx(name):\n",
        "  end = f'/content/drive/MyDrive/Instances/{name}.mtx'\n",
        "  a = mmread(end).toarray()\n",
        "  w = [(i+1)%200 for i in range(1, len(a)+1)]\n",
        "  e = []\n",
        "  for i in range(len(a)):\n",
        "    for j in range(i,len(a)):\n",
        "      if a[i][j]: e.append([i,j])\n",
        "  return w,e"
      ],
      "execution_count": 10,
      "outputs": []
    },
    {
      "cell_type": "code",
      "metadata": {
        "id": "RmqY7nFD0lJW"
      },
      "source": [
        "w,e = toWE_mtx('ca-netscience')"
      ],
      "execution_count": 26,
      "outputs": []
    },
    {
      "cell_type": "code",
      "metadata": {
        "id": "wBnlwzNc55sO"
      },
      "source": [
        "edges = e\n",
        "weights = w\n",
        "norm_w = np.linalg.norm(w)\n",
        "normalized_w = w / norm_w"
      ],
      "execution_count": 27,
      "outputs": []
    },
    {
      "cell_type": "code",
      "metadata": {
        "colab": {
          "base_uri": "https://localhost:8080/"
        },
        "id": "axjFAMQ7Z6kD",
        "outputId": "b29b838b-20e5-4714-8ac1-2586277f6d0d"
      },
      "source": [
        "num_iterations = 3\n",
        "\n",
        "results = [0 for i in range(num_iterations)]\n",
        "solutions = [[] for i in range(num_iterations)]\n",
        "results_flip = [0 for i in range(num_iterations)]\n",
        "solutions_flip = [[] for i in range(num_iterations)]\n",
        "\n",
        "for i in range(num_iterations):\n",
        "  print(i, end = ' ')\n",
        "  flip = flipheuristic(w,e)\n",
        "  results_flip[i], solutions_flip[i] = flip.run()\n",
        "  # print(time.time())\n",
        "  s = sga(normalized_w, e, population_size = 100, generations=100)\n",
        "  s.solve()\n",
        "  results[i] = int(round(s.best_solution.prize * norm_w))\n",
        "  print('Prize: ', results[i], '/ Is feasible: ', is_feasible(s.best_solution, e), '/ Best generation:', s.best_gen)\n",
        "  # print('Times:\\n Parent Selection: ', s.ps, 'Crossover: ', s.c, 'Mutation: ', s.m, 'Repair: ', s.r, 'Heuristic: ', s.h, 'Find best: ', s.b)\n",
        "\n",
        "print('\\nGA: ', results)\n",
        "print('Média: ', np.mean(results))\n",
        "print('Mediana: ', np.median(results))\n",
        "print('Mínimo: ', min(results))\n",
        "\n",
        "print('\\nFLIP: ', results_flip)\n",
        "print('Média: ', np.mean(results_flip))\n",
        "print('Mediana: ', np.median(results_flip))\n",
        "print('Mínimo: ', min(results_flip))"
      ],
      "execution_count": 28,
      "outputs": [
        {
          "output_type": "stream",
          "text": [
            "0 Prize:  19305 / Is feasible:  True / Best generation: 89\n",
            "1 Prize:  19305 / Is feasible:  True / Best generation: 98\n",
            "2 Prize:  19306 / Is feasible:  True / Best generation: 81\n",
            "\n",
            "GA:  [19305, 19305, 19306]\n",
            "Média:  19305.333333333332\n",
            "Mediana:  19305.0\n",
            "Mínimo:  19305\n",
            "\n",
            "FLIP:  [22061, 22849, 21952]\n",
            "Média:  22287.333333333332\n",
            "Mediana:  22061.0\n",
            "Mínimo:  21952\n"
          ],
          "name": "stdout"
        }
      ]
    },
    {
      "cell_type": "code",
      "metadata": {
        "id": "W63vZK2Yw36d"
      },
      "source": [
        "huge_files = []"
      ],
      "execution_count": null,
      "outputs": []
    },
    {
      "cell_type": "code",
      "metadata": {
        "colab": {
          "base_uri": "https://localhost:8080/"
        },
        "id": "zyPsiIJ326W4",
        "outputId": "8e263088-40ba-44fc-c217-20a1b8a48529"
      },
      "source": [
        "os.path.getsize(path_instances+'/soc-dolphins.mtx')"
      ],
      "execution_count": null,
      "outputs": [
        {
          "output_type": "execute_result",
          "data": {
            "text/plain": [
              "3056"
            ]
          },
          "metadata": {
            "tags": []
          },
          "execution_count": 63
        }
      ]
    },
    {
      "cell_type": "code",
      "metadata": {
        "colab": {
          "base_uri": "https://localhost:8080/"
        },
        "id": "8lKHVl07WuS4",
        "outputId": "bab61b79-9c93-4037-8fc6-94a426eec615"
      },
      "source": [
        "for filename in os.listdir(path_instances):\n",
        "  if filename.endswith('.mtx') and os.path.getsize(path_instances + '/' + filename) < 1e6:\n",
        "    w, e = toWE_mtx(filename[:-4])\n",
        "    print(filename, len(e))"
      ],
      "execution_count": 9,
      "outputs": [
        {
          "output_type": "stream",
          "text": [
            "bio-celegans.mtx 2025\n",
            "rt-twitter-copen.mtx 1029\n",
            "soc-karate.mtx 78\n",
            "soc-dolphins.mtx 159\n",
            "bio-diseasome.mtx 1188\n",
            "bio-yeast.mtx 1948\n",
            "web-edu.mtx 6474\n",
            "ia-reality.mtx 7680\n",
            "tech-as-caida2007.mtx 53381\n",
            "web-webbase-2001.mtx 25593\n",
            "web-google.mtx 2773\n",
            "dwt_59.mtx 163\n",
            "ia-email-EU.mtx 54397\n",
            "road-chesapeake.mtx 170\n",
            "can_96.mtx 432\n",
            "gent113.mtx 312\n",
            "rt-retweet.mtx 117\n",
            "ia-enron-only.mtx 623\n",
            "web-indochina-2004.mtx 47606\n",
            "web-polblogs.mtx 2280\n",
            "GD95_c.mtx 143\n",
            "ca-netscience.mtx 914\n",
            "ca-CSphd.mtx 1094\n",
            "ca-Erdos992.mtx 7515\n"
          ],
          "name": "stdout"
        }
      ]
    },
    {
      "cell_type": "code",
      "metadata": {
        "colab": {
          "base_uri": "https://localhost:8080/"
        },
        "id": "hMNR4wFRv0GD",
        "outputId": "28fe821e-c21b-4573-d03c-32484b5e8828"
      },
      "source": [
        "for filename in os.listdir(path_instances):\n",
        "  if os.path.getsize(path_instances + '/' + filename) < 1e6:\n",
        "    if filename.endswith('.mtx'):\n",
        "        print(filename[:-4])\n",
        "        \n",
        "        try:\n",
        "          w,e = toWE_mtx(filename[:-4])\n",
        "          \n",
        "          edges = e\n",
        "          weights = w\n",
        "          norm_w = np.linalg.norm(w)\n",
        "          normalized_w = w / norm_w\n",
        "\n",
        "          start = time.time()\n",
        "          flip = flipheuristic(w,e)\n",
        "          result_flip, solution_flip_array = flip.run()\n",
        "          solution_flip = solution(len(w))\n",
        "          solution_flip.array = solution_flip_array\n",
        "          solution_flip.prize = result_flip\n",
        "          print('Flip Time: ', time.time()-start, ' / Flip Prize: ', result_flip, ' / Is feasible: ', is_feasible(solution_flip, e))\n",
        "          # start = time.time()\n",
        "          # s = sga(normalized_w, e, population_size = 100, generations=100)\n",
        "          # s.solve()\n",
        "          # result_ga = int(round(s.best_solution.prize * norm_w))\n",
        "          # print('GA Time: ', time.time() - start, ' / GA Prize: ', result_ga, ' / Is feasible: ', is_feasible(s.best_solution, e), ' / Best generation:', s.best_gen)\n",
        "        except:\n",
        "          print('Error')\n",
        "\n",
        "    elif filename.endswith('.edges'):\n",
        "      print('edges')"
      ],
      "execution_count": 11,
      "outputs": [
        {
          "output_type": "stream",
          "text": [
            "bio-celegans\n",
            "Flip Time:  0.00940394401550293  / Flip Prize:  25627  / Is feasible:  True\n",
            "rt-twitter-copen\n",
            "Flip Time:  0.005272865295410156  / Flip Prize:  28053  / Is feasible:  True\n",
            "soc-karate\n",
            "Flip Time:  0.00048065185546875  / Flip Prize:  251  / Is feasible:  True\n",
            "soc-dolphins\n",
            "Flip Time:  0.0008218288421630859  / Flip Prize:  1419  / Is feasible:  True\n",
            "bio-diseasome\n",
            "Flip Time:  0.005753993988037109  / Flip Prize:  26537  / Is feasible:  True\n",
            "bio-yeast\n",
            "Flip Time:  0.01060628890991211  / Flip Prize:  52717  / Is feasible:  True\n",
            "web-edu\n",
            "Flip Time:  0.038374900817871094  / Flip Prize:  171058  / Is feasible:  True\n",
            "ia-reality\n",
            "Flip Time:  0.04550290107727051  / Flip Prize:  7121  / Is feasible:  True\n",
            "edges\n",
            "tech-as-caida2007\n",
            "Flip Time:  0.5954957008361816  / Flip Prize:  475358  / Is feasible:  True\n",
            "web-webbase-2001\n",
            "Flip Time:  0.25968074798583984  / Flip Prize:  335569  / Is feasible:  True\n",
            "web-google\n",
            "Flip Time:  0.014513492584228516  / Flip Prize:  53673  / Is feasible:  True\n",
            "edges\n",
            "dwt_59\n",
            "Flip Time:  0.0009295940399169922  / Flip Prize:  1829  / Is feasible:  True\n",
            "ia-email-EU\n",
            "Flip Time:  0.979809045791626  / Flip Prize:  142142  / Is feasible:  True\n",
            "road-chesapeake\n",
            "Flip Time:  0.05214262008666992  / Flip Prize:  521  / Is feasible:  True\n",
            "can_96\n",
            "Flip Time:  0.0020644664764404297  / Flip Prize:  4752  / Is feasible:  True\n",
            "gent113\n",
            "Flip Time:  0.0015070438385009766  / Flip Prize:  5075  / Is feasible:  True\n",
            "rt-retweet\n",
            "Flip Time:  0.0006957054138183594  / Flip Prize:  1930  / Is feasible:  True\n",
            "edges\n",
            "ia-enron-only\n",
            "Flip Time:  0.002918243408203125  / Flip Prize:  7629  / Is feasible:  True\n",
            "edges\n",
            "web-indochina-2004\n",
            "Flip Time:  0.5487213134765625  / Flip Prize:  772621  / Is feasible:  True\n",
            "web-polblogs\n",
            "Flip Time:  0.08825445175170898  / Flip Prize:  25208  / Is feasible:  True\n",
            "GD95_c\n",
            "Flip Time:  0.0008018016815185547  / Flip Prize:  1390  / Is feasible:  True\n",
            "ca-netscience\n",
            "Flip Time:  0.0044384002685546875  / Flip Prize:  21267  / Is feasible:  True\n",
            "ca-CSphd\n",
            "Flip Time:  0.006501436233520508  / Flip Prize:  39761  / Is feasible:  True\n",
            "ca-Erdos992\n",
            "Flip Time:  0.05151081085205078  / Flip Prize:  74451  / Is feasible:  True\n"
          ],
          "name": "stdout"
        }
      ]
    }
  ]
}